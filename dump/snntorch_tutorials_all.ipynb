{
 "cells": [
  {
   "cell_type": "markdown",
   "metadata": {},
   "source": [
    "# TUTORIAL 1 - SPIKE ENCODING \n",
    "<a href=\"https://snntorch.readthedocs.io/en/latest/tutorials/index.html\">Original source</a>"
   ]
  },
  {
   "cell_type": "code",
   "execution_count": 1,
   "metadata": {},
   "outputs": [
    {
     "name": "stderr",
     "output_type": "stream",
     "text": [
      "/home/arafat/work/thesis/env/lib/python3.10/site-packages/torch/cuda/__init__.py:619: UserWarning: Can't initialize NVML\n",
      "  warnings.warn(\"Can't initialize NVML\")\n"
     ]
    }
   ],
   "source": [
    "# import packages\n",
    "import snntorch\n",
    "from snntorch import spikegen\n",
    "import torch\n",
    "import torch.nn as nn\n",
    "from torchvision import datasets, transforms\n",
    "from torch.utils.data import DataLoader \n",
    "from snntorch import utils"
   ]
  },
  {
   "cell_type": "code",
   "execution_count": 30,
   "metadata": {},
   "outputs": [],
   "source": [
    "# Training Parameters\n",
    "batch_size = 128\n",
    "epochs = 10\n",
    "dataPath = './data'\n",
    "dtype = torch.float # tensor float32 torch variable\n",
    "\n",
    "# Data Preprocessing\n",
    "# Define a transform to normalize the data and convert it to tensor\n",
    "transform =  transforms.Compose([\n",
    "    transforms.Resize((28,28)),\n",
    "    transforms.Grayscale(),\n",
    "    transforms.ToTensor(), # convert the image to tensor\n",
    "    transforms.Normalize((0,),(1,)) # (mean, std) mean is adjusting the brightness of the image and std is adjusting the contrast of the image   \n",
    "])\n",
    "\n",
    "# Downloading dataset\n",
    "mnist_train = datasets.MNIST(dataPath, train=True, download=True, transform=transform)\n",
    "\n",
    "# reducing data size by 10 times\n",
    "subset = 10\n",
    "mnist_train = utils.data_subset(mnist_train, subset)\n",
    "\n",
    "# Dataloader converts dataset into batches and shuffles the . provides an iterable over the given dataset\n",
    "train_loader = DataLoader(\n",
    "    mnist_train, batch_size=batch_size, shuffle=True\n",
    ")  "
   ]
  },
  {
   "cell_type": "code",
   "execution_count": 9,
   "metadata": {},
   "outputs": [
    {
     "name": "stdout",
     "output_type": "stream",
     "text": [
      "torch.Size([100, 128, 1, 28, 28])\n"
     ]
    }
   ],
   "source": [
    "\"\"\" Encoding the dataset usign Rate-Coding\n",
    "    Rate coding is a method of encoding information in the frequency of spikes.\n",
    "    iterating through minibatches\"\"\"\n",
    "    \n",
    "data = iter(train_loader)\n",
    "data_it, targets_it = next(data) #this chooses a single batch of among 128 databatches and returns an iterator to iterate over the batch of images\n",
    "num_steps = 100 # the num_steps defines the number of timesteps for which the data is encoded\n",
    "# spiking the data\n",
    "spike_data = spikegen.rate(data_it, num_steps=num_steps)\n",
    "print(spike_data.size()) #The structure of the input data is [num_steps x batch_size x input dimensions]"
   ]
  }
 ],
 "metadata": {
  "kernelspec": {
   "display_name": "env",
   "language": "python",
   "name": "python3"
  },
  "language_info": {
   "codemirror_mode": {
    "name": "ipython",
    "version": 3
   },
   "file_extension": ".py",
   "mimetype": "text/x-python",
   "name": "python",
   "nbconvert_exporter": "python",
   "pygments_lexer": "ipython3",
   "version": "3.10.15"
  }
 },
 "nbformat": 4,
 "nbformat_minor": 2
}
